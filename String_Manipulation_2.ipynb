{
 "cells": [
  {
   "cell_type": "code",
   "execution_count": 6,
   "id": "db2e29ec-820d-4763-a845-8606a698dfe5",
   "metadata": {},
   "outputs": [
    {
     "name": "stdout",
     "output_type": "stream",
     "text": [
      "True\n"
     ]
    }
   ],
   "source": [
    "#1.  How do you check if a string is empty?\n",
    "string = \"\"  \n",
    "if string.strip() == \"\":\n",
    "    print(True)\n",
    "else:\n",
    "    print(False)\n"
   ]
  },
  {
   "cell_type": "code",
   "execution_count": 12,
   "id": "28c023f1-62b0-4d05-8f76-6ff952735096",
   "metadata": {},
   "outputs": [
    {
     "data": {
      "text/plain": [
       "['S', 'u', 'r', 'a', 'j']"
      ]
     },
     "execution_count": 12,
     "metadata": {},
     "output_type": "execute_result"
    }
   ],
   "source": [
    "#2. Write a function to convert a string into a list of its characters.\n",
    "\n",
    "def convert_string(s):\n",
    "    return list(s)\n",
    "convert_string(\"Suraj\")"
   ]
  },
  {
   "cell_type": "code",
   "execution_count": 17,
   "id": "efdac296-69c8-44e6-bfee-b731038ae177",
   "metadata": {},
   "outputs": [],
   "source": [
    "# * 3.How can you find the longest common suffix among an array of strings?\n",
    "\n"
   ]
  },
  {
   "cell_type": "code",
   "execution_count": 21,
   "id": "8337dcc9-a80b-4e99-9ede-1476530c3a17",
   "metadata": {},
   "outputs": [
    {
     "name": "stdout",
     "output_type": "stream",
     "text": [
      "False\n"
     ]
    }
   ],
   "source": [
    "#4. Write a function to check if a string contains only digits.\n",
    "def check_digit_string(s):\n",
    "    return s.isdigit()\n",
    "print(check_digit_string(\"suraj\"))"
   ]
  },
  {
   "cell_type": "code",
   "execution_count": 27,
   "id": "a53098a0-dc4d-49ad-8671-70fd42ea1429",
   "metadata": {},
   "outputs": [
    {
     "name": "stdout",
     "output_type": "stream",
     "text": [
      "2\n"
     ]
    }
   ],
   "source": [
    "#5.  How do you count the number of words in a string?\n",
    "\n",
    "def count_words(s):\n",
    "    return len(s.split())\n",
    "print(count_words(\"suraj singh\",))"
   ]
  },
  {
   "cell_type": "code",
   "execution_count": 32,
   "id": "350eb0d0-0199-49ff-8ce2-d5177b76749f",
   "metadata": {},
   "outputs": [
    {
     "name": "stdout",
     "output_type": "stream",
     "text": [
      "5\n"
     ]
    }
   ],
   "source": [
    "# * 6. Write a function to truncate a string to a specified length.\n",
    "\n",
    "def string(s):\n",
    "    return len(s)\n",
    "print(string(\"suraj\"))"
   ]
  },
  {
   "cell_type": "code",
   "execution_count": 36,
   "id": "e0924509-3201-403d-8880-0cb1c86afd59",
   "metadata": {},
   "outputs": [
    {
     "name": "stdout",
     "output_type": "stream",
     "text": [
      "Suraj...\n",
      "Suraj\n"
     ]
    }
   ],
   "source": [
    "def truncate_string(s, length):\n",
    "    if len(s) > length:\n",
    "        return s[:length] + \"...\"\n",
    "    else:\n",
    "        return s\n",
    "        \n",
    "print(truncate_string(\"Suraj  Singh\", 5)) \n",
    "print(truncate_string(\"Suraj\", 10))  \n"
   ]
  },
  {
   "cell_type": "code",
   "execution_count": 37,
   "id": "8a41d6fc-ef51-4305-90a0-30805e8b83a3",
   "metadata": {},
   "outputs": [
    {
     "name": "stdout",
     "output_type": "stream",
     "text": [
      "Hello world\n"
     ]
    }
   ],
   "source": [
    "#7.  How can you remove punctuation from a string?\n",
    "import re\n",
    "\n",
    "def remove_punctuation(s):\n",
    "    return re.sub(r'[^\\w\\s]', '', s)\n",
    "\n",
    "print(remove_punctuation(\"Hello, world!\")) \n"
   ]
  },
  {
   "cell_type": "code",
   "execution_count": 39,
   "id": "3ee6ce55-eaf9-44d5-b043-76708c74c799",
   "metadata": {},
   "outputs": [
    {
     "name": "stdin",
     "output_type": "stream",
     "text": [
      "Enter a string with punctuation : hell!!! how are ??? i am fine....\n"
     ]
    },
    {
     "name": "stdout",
     "output_type": "stream",
     "text": [
      "hell how are  i am fine\n"
     ]
    }
   ],
   "source": [
    "import string\n",
    "\n",
    "punctuation = string.punctuation\n",
    "\n",
    "string=input(\"Enter a string with punctuation :\")\n",
    "\n",
    "empty_string=\"\"\n",
    "for i in string:\n",
    "    if i not in punctuation:\n",
    "        empty_string = empty_string+i\n",
    "print(empty_string)\n",
    "        "
   ]
  },
  {
   "cell_type": "code",
   "execution_count": 41,
   "id": "31c7aee1-9f57-4d22-9d57-6609a148eeb4",
   "metadata": {},
   "outputs": [
    {
     "name": "stdout",
     "output_type": "stream",
     "text": [
      "hey suraj\n"
     ]
    }
   ],
   "source": [
    "#8. Write a function to replace the first occurrence of a character in a string\n",
    "def remove_whitespace(s,old,new):\n",
    "    return s.replace(old,new)\n",
    "\n",
    "print(remove_whitespace(\"hello suraj\",\"hello\",\"hey\"))"
   ]
  },
  {
   "cell_type": "code",
   "execution_count": null,
   "id": "20c296e0-416f-44db-af19-623bdd910294",
   "metadata": {},
   "outputs": [],
   "source": [
    "#9.  How do you check if a string is a valid URL?\n"
   ]
  },
  {
   "cell_type": "code",
   "execution_count": 57,
   "id": "0e01cd85-3c87-49aa-936b-078b39cde1b1",
   "metadata": {},
   "outputs": [
    {
     "name": "stdout",
     "output_type": "stream",
     "text": [
      "elloh\n"
     ]
    }
   ],
   "source": [
    "#10. Write a function to rotate a string left by a specified number of positions.\n",
    "\n",
    "def rotate_left(s, n):\n",
    "    return s[n:] + s[:n]\n",
    "\n",
    "print(rotate_left(\"hello\", 1)) \n"
   ]
  },
  {
   "cell_type": "code",
   "execution_count": 51,
   "id": "b7cfde12-e2e7-45f2-b448-713635bb8c7f",
   "metadata": {},
   "outputs": [
    {
     "name": "stdout",
     "output_type": "stream",
     "text": [
      "{'a': 1, 's': 2, 'h': 2, 'i': 1}\n"
     ]
    }
   ],
   "source": [
    "#11. How can you convert a string into a dictionary of character counts?\n",
    "\n",
    "def convert_string(s):\n",
    "    count={}\n",
    "    for char in s:\n",
    "        if char in count :\n",
    "            count[char]+=1\n",
    "        else :\n",
    "            count[char]=1\n",
    "    return count\n",
    "print(convert_string(\"ashish\"))"
   ]
  },
  {
   "cell_type": "code",
   "execution_count": 52,
   "id": "6ad709e6-50e0-412c-9fe0-8b077cdcce39",
   "metadata": {},
   "outputs": [
    {
     "name": "stdout",
     "output_type": "stream",
     "text": [
      "{'a': 1, 's': 2, 'i': 1, 'h': 2}\n"
     ]
    }
   ],
   "source": [
    "def convert_string(s):\n",
    "    return {char: s.count(char) for char in set(s)}\n",
    "\n",
    "print(convert_string(\"ashish\"))"
   ]
  },
  {
   "cell_type": "code",
   "execution_count": 64,
   "id": "192e029e-3dbb-4180-9507-50d76a164434",
   "metadata": {},
   "outputs": [
    {
     "name": "stdin",
     "output_type": "stream",
     "text": [
      "Enter a string:  welcome to python programmin \n"
     ]
    },
    {
     "name": "stdout",
     "output_type": "stream",
     "text": [
      "Longest word: programmin\n"
     ]
    }
   ],
   "source": [
    " # *12. Write a function to find the second largest word in a string.\n",
    "\n",
    "str = input(\"Enter a string: \")\n",
    "s = str.split()\n",
    "max_len = 0\n",
    "#max_word = \"\"\n",
    "\n",
    "for char in s:\n",
    "    if len(char) > max_len:\n",
    "        max_len = len(char)\n",
    "        max_word = char\n",
    "\n",
    "print(\"Longest word:\", max_word)"
   ]
  },
  {
   "cell_type": "code",
   "execution_count": 5,
   "id": "474388bc-2cd9-44eb-b0b3-81e6b46d69c0",
   "metadata": {},
   "outputs": [
    {
     "name": "stdout",
     "output_type": "stream",
     "text": [
      "ajrsu\n"
     ]
    }
   ],
   "source": [
    "#13. How do you sort the characters in a string alphabetically?\n",
    "def alphabetically(s):\n",
    "    return ''.join(sorted(s))\n",
    "\n",
    "print(alphabetically(\"suraj\"))  "
   ]
  },
  {
   "cell_type": "code",
   "execution_count": 22,
   "id": "01454950-a61f-4ffb-9409-ab5942b836d0",
   "metadata": {},
   "outputs": [
    {
     "name": "stdout",
     "output_type": "stream",
     "text": [
      "ssuirnagjh\n"
     ]
    }
   ],
   "source": [
    "#14. Write a function to create a string of alternating characters from two strings.\n",
    "\n",
    "def alternate_strings(s1, s2):\n",
    "    result=\"\"\n",
    "    for c1,c2 in zip(s1,s2):\n",
    "        result +=c1+c2\n",
    "    return result\n",
    "\n",
    "print(alternate_strings(\"suraj\", \"singh\"))  \n"
   ]
  },
  {
   "cell_type": "code",
   "execution_count": 25,
   "id": "ee7ecc66-94e7-4da3-a754-7c1e2ed51696",
   "metadata": {},
   "outputs": [
    {
     "name": "stdout",
     "output_type": "stream",
     "text": [
      "My name is suraj and I am 24 years old.\n"
     ]
    }
   ],
   "source": [
    "#15.  How can you format a string with placeholders?\n",
    "\n",
    "name = \"suraj\"\n",
    "age = 24\n",
    "formatted_string = f\"My name is {name} and I am {age} years old.\" \n",
    "print(formatted_string)  "
   ]
  },
  {
   "cell_type": "code",
   "execution_count": 33,
   "id": "00a23f04-b672-4a04-af7e-b79f36a225d3",
   "metadata": {},
   "outputs": [
    {
     "name": "stdout",
     "output_type": "stream",
     "text": [
      "[2, 3, 9]\n"
     ]
    }
   ],
   "source": [
    "#16. Write a function to find all the indices of a character in a string.\n",
    "def find_indices(s, char):\n",
    "    indices = []\n",
    "    for i in range(len(s)):\n",
    "        if s[i] == char:\n",
    "            indices.append(i)\n",
    "    return indices\n",
    "    \n",
    "print(find_indices(\"hello world\", \"l\")) \n"
   ]
  },
  {
   "cell_type": "code",
   "execution_count": 34,
   "id": "f034d63f-9165-47b6-b90b-f4fe62ff8652",
   "metadata": {},
   "outputs": [
    {
     "name": "stdout",
     "output_type": "stream",
     "text": [
      "heo word\n"
     ]
    }
   ],
   "source": [
    "#17. How do you remove all occurrences of a specific character from a string?\n",
    "\n",
    "def remove_char(s, char):\n",
    "    return s.replace(char, \"\")\n",
    "\n",
    "print(remove_char(\"hello world\", \"l\")) "
   ]
  },
  {
   "cell_type": "code",
   "execution_count": null,
   "id": "b08233ae-5b76-4cfa-beb1-f0f6da33f5ce",
   "metadata": {},
   "outputs": [],
   "source": [
    "#18. . Write a function to generate a string from a list of integers.\n",
    "def generate_string(lst):\n",
    "    return ' '.join(map(str, lst))\n",
    "\n",
    "\n",
    "print(generate_string([1, 2, 3, 4, 5]))"
   ]
  },
  {
   "cell_type": "code",
   "execution_count": 45,
   "id": "f5b6d0a9-5813-4bc5-9e84-4a230a6f8ecd",
   "metadata": {},
   "outputs": [
    {
     "name": "stdout",
     "output_type": "stream",
     "text": [
      "False\n",
      "True\n"
     ]
    }
   ],
   "source": [
    "#19.How can you check if a string contains special characters?\n",
    "\n",
    "def contains_special_chars(s):\n",
    "    return not s.isalnum()\n",
    "\n",
    "print(contains_special_chars(\"hello\"))  \n",
    "print(contains_special_chars(\"hello!\"))  "
   ]
  },
  {
   "cell_type": "code",
   "execution_count": null,
   "id": "844e4fdf-4277-46dc-8c88-cdb19c1c0f96",
   "metadata": {},
   "outputs": [],
   "source": [
    "#20.  Write a function to compress a string by replacing consecutive duplicates with a count"
   ]
  }
 ],
 "metadata": {
  "kernelspec": {
   "display_name": "Python 3 (ipykernel)",
   "language": "python",
   "name": "python3"
  },
  "language_info": {
   "codemirror_mode": {
    "name": "ipython",
    "version": 3
   },
   "file_extension": ".py",
   "mimetype": "text/x-python",
   "name": "python",
   "nbconvert_exporter": "python",
   "pygments_lexer": "ipython3",
   "version": "3.10.11"
  }
 },
 "nbformat": 4,
 "nbformat_minor": 5
}
